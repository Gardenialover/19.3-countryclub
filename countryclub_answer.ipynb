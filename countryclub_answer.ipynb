{
 "cells": [
  {
   "cell_type": "code",
   "execution_count": 12,
   "id": "19166f63",
   "metadata": {},
   "outputs": [
    {
     "name": "stdout",
     "output_type": "stream",
     "text": [
      "Requirement already satisfied: pandas in c:\\users\\yan zhang\\appdata\\roaming\\python\\python310\\site-packages (2.1.0)\n",
      "Requirement already satisfied: sqlalchemy in c:\\users\\yan zhang\\anaconda3\\lib\\site-packages (2.0.20)\n",
      "Requirement already satisfied: numpy>=1.22.4 in c:\\users\\yan zhang\\appdata\\roaming\\python\\python310\\site-packages (from pandas) (1.25.2)\n",
      "Requirement already satisfied: python-dateutil>=2.8.2 in c:\\users\\yan zhang\\appdata\\roaming\\python\\python310\\site-packages (from pandas) (2.8.2)\n",
      "Requirement already satisfied: pytz>=2020.1 in c:\\users\\yan zhang\\appdata\\roaming\\python\\python310\\site-packages (from pandas) (2023.3)\n",
      "Requirement already satisfied: tzdata>=2022.1 in c:\\users\\yan zhang\\appdata\\roaming\\python\\python310\\site-packages (from pandas) (2023.3)\n",
      "Requirement already satisfied: typing-extensions>=4.2.0 in c:\\users\\yan zhang\\anaconda3\\lib\\site-packages (from sqlalchemy) (4.7.1)\n",
      "Requirement already satisfied: greenlet!=0.4.17 in c:\\users\\yan zhang\\anaconda3\\lib\\site-packages (from sqlalchemy) (2.0.2)\n",
      "Requirement already satisfied: six>=1.5 in c:\\users\\yan zhang\\appdata\\roaming\\python\\python310\\site-packages (from python-dateutil>=2.8.2->pandas) (1.16.0)\n"
     ]
    },
    {
     "name": "stderr",
     "output_type": "stream",
     "text": [
      "DEPRECATION: nb-black 1.0.7 has a non-standard dependency specifier black>='19.3'; python_version >= \"3.6\". pip 23.3 will enforce this behaviour change. A possible replacement is to upgrade to a newer version of nb-black or contact the author to suggest that they release a version with a conforming dependency specifiers. Discussion can be found at https://github.com/pypa/pip/issues/12063\n"
     ]
    }
   ],
   "source": [
    "!pip install pandas sqlalchemy"
   ]
  },
  {
   "cell_type": "code",
   "execution_count": 15,
   "id": "0f32bd0d",
   "metadata": {
    "scrolled": true
   },
   "outputs": [],
   "source": [
    "import pandas as pd\n",
    "import sqlite3"
   ]
  },
  {
   "cell_type": "code",
   "execution_count": 60,
   "id": "9c321365",
   "metadata": {},
   "outputs": [],
   "source": [
    "# Create the connection\n",
    "cnx = sqlite3.connect(r'C:\\Users\\Yan Zhang\\Desktop\\19.3 country club study\\SQLFiles Tier 2\\countryclubs.db')"
   ]
  },
  {
   "cell_type": "markdown",
   "id": "f8acaf28",
   "metadata": {},
   "source": [
    "query1: Q10: Produce a list of facilities with a total revenue less than 1000.\n",
    "The output of facility name and total revenue, sorted by revenue. Remember\n",
    "that there's a different cost for guests and members! "
   ]
  },
  {
   "cell_type": "code",
   "execution_count": 75,
   "id": "2e93752d",
   "metadata": {},
   "outputs": [],
   "source": [
    "query1=\"\"\"\\\n",
    "SELECT * FROM\n",
    "(\n",
    "    SELECT\n",
    "        f.name,\n",
    "        (\n",
    "            SELECT\n",
    "                SUM((CASE WHEN b.memid=0 THEN f.guestcost ELSE f.membercost END)*b.slots) as cost\n",
    "            FROM Bookings AS b \n",
    "            WHERE b.facid = f.facid\n",
    "        ) as revenue\n",
    "    FROM Facilities AS f\n",
    "    GROUP BY f.facid\n",
    ") AS sub\n",
    "WHERE sub.revenue < 1000\n",
    "ORDER BY sub.revenue;\"\"\""
   ]
  },
  {
   "cell_type": "code",
   "execution_count": 76,
   "id": "52953ef3",
   "metadata": {},
   "outputs": [
    {
     "name": "stdout",
     "output_type": "stream",
     "text": [
      "            name  revenue\n",
      "0   Table Tennis      180\n",
      "1  Snooker Table      240\n",
      "2     Pool Table      270\n"
     ]
    }
   ],
   "source": [
    "#query1 for question 10\n",
    "df1 = pd.read_sql_query(query1, cnx)\n",
    "print(df1.head())"
   ]
  },
  {
   "cell_type": "markdown",
   "id": "1a860217",
   "metadata": {},
   "source": [
    "query2 for Q11: Produce a report of members and who recommended them in alphabetic surname,firstname order */"
   ]
  },
  {
   "cell_type": "code",
   "execution_count": 73,
   "id": "623c3496",
   "metadata": {},
   "outputs": [],
   "source": [
    "query2=\"\"\"\\\n",
    "SELECT m.memid, m.firstname,m.surname, m.recommendedby, r.firstname,r.surname\n",
    "FROM Members AS m\n",
    "LEFT JOIN Members AS r ON m.recommendedby = r.memid\n",
    "WHERE m.recommendedby !=0 AND m.recommendedby != ''\n",
    "ORDER BY r.surname,r.firstname;\"\"\""
   ]
  },
  {
   "cell_type": "code",
   "execution_count": 74,
   "id": "ed4482a8",
   "metadata": {},
   "outputs": [
    {
     "name": "stdout",
     "output_type": "stream",
     "text": [
      "    memid  firstname            surname recommendedby  firstname   surname\n",
      "0      24  Ramnaresh             Sarwin            15   Florence     Bader\n",
      "1      22       Joan             Coplin            16    Timothy     Baker\n",
      "2      20    Matthew            Genting             5     Gerald   Butters\n",
      "3      16    Timothy              Baker            13     Jemima   Farrell\n",
      "4      17      David             Pinker            13     Jemima   Farrell\n",
      "5      27  Henrietta             Rumney            20    Matthew   Genting\n",
      "6      26    Douglas              Jones            11      David     Jones\n",
      "7       7      Nancy               Dare             4     Janice  Joplette\n",
      "8      11      David              Jones             4     Janice  Joplette\n",
      "9      35       John               Hunt            30  Millicent   Purview\n",
      "10      8        Tim             Boothe             3        Tim    Rownam\n",
      "11      4     Janice           Joplette             1     Darren     Smith\n",
      "12      5     Gerald            Butters             1     Darren     Smith\n",
      "13     10    Charles               Owen             1     Darren     Smith\n",
      "14     14       Jack              Smith             1     Darren     Smith\n",
      "15     21       Anna          Mackenzie             1     Darren     Smith\n",
      "16     29      Henry  Worthington-Smyth             2      Tracy     Smith\n",
      "17     30  Millicent            Purview             2      Tracy     Smith\n",
      "18     36      Erica            Crumpet             2      Tracy     Smith\n",
      "19     12       Anne              Baker             9     Ponder  Stibbons\n",
      "20     15   Florence              Bader             9     Ponder  Stibbons\n",
      "21      9     Ponder           Stibbons             6     Burton     Tracy\n"
     ]
    }
   ],
   "source": [
    "#query2 for question 11\n",
    "df2 = pd.read_sql_query(query2, cnx)\n",
    "print(df2)"
   ]
  },
  {
   "cell_type": "markdown",
   "id": "b9c5fd6e",
   "metadata": {},
   "source": [
    "/* Q12: Find the facilities with their usage by member, but not guests */"
   ]
  },
  {
   "cell_type": "code",
   "execution_count": 65,
   "id": "6c4f3621",
   "metadata": {},
   "outputs": [],
   "source": [
    "query3=\"\"\"\\\n",
    "SELECT sub.facid, f.name, COUNT(sub.memid) AS facilityUsage\n",
    "FROM (\n",
    "    SELECT facid, memid\n",
    "    FROM Bookings \n",
    "    WHERE memid !=0\n",
    "    ) AS sub\n",
    "LEFT JOIN Facilities AS f ON sub.facid = f.facid\n",
    "GROUP BY sub.facid;\"\"\""
   ]
  },
  {
   "cell_type": "code",
   "execution_count": 66,
   "id": "b8620209",
   "metadata": {},
   "outputs": [
    {
     "name": "stdout",
     "output_type": "stream",
     "text": [
      "   facid             name  facilityUsage\n",
      "0      0   Tennis Court 1            308\n",
      "1      1   Tennis Court 2            276\n",
      "2      2  Badminton Court            344\n",
      "3      3     Table Tennis            385\n",
      "4      4   Massage Room 1            421\n",
      "5      5   Massage Room 2             27\n",
      "6      6     Squash Court            195\n",
      "7      7    Snooker Table            421\n",
      "8      8       Pool Table            783\n"
     ]
    }
   ],
   "source": [
    "#query3 for question 12\n",
    "df3 = pd.read_sql_query(query3, cnx)\n",
    "print(df3)"
   ]
  },
  {
   "cell_type": "markdown",
   "id": "2d9c34dd",
   "metadata": {},
   "source": [
    "/* Q13: Find the facilities usage by month, but not guests */"
   ]
  },
  {
   "cell_type": "code",
   "execution_count": 71,
   "id": "550aa35f",
   "metadata": {},
   "outputs": [],
   "source": [
    "query4= \"\"\"\\\n",
    "SELECT s.facid, COUNT(s.memid) as month_usage, s.month AS month\n",
    "FROM (\n",
    "    SELECT facid,memid, strftime('%m', starttime) AS month\n",
    "    FROM Bookings \n",
    "    WHERE memid !=0\n",
    "    ) AS s\n",
    "GROUP BY s.facid, s.month;\"\"\""
   ]
  },
  {
   "cell_type": "code",
   "execution_count": 72,
   "id": "d32aaf6b",
   "metadata": {},
   "outputs": [
    {
     "name": "stdout",
     "output_type": "stream",
     "text": [
      "    facid  month_usage month\n",
      "0       0           65    07\n",
      "1       0          111    08\n",
      "2       0          132    09\n",
      "3       1           41    07\n",
      "4       1          109    08\n",
      "5       1          126    09\n",
      "6       2           51    07\n",
      "7       2          132    08\n",
      "8       2          161    09\n",
      "9       3           48    07\n",
      "10      3          143    08\n",
      "11      3          194    09\n",
      "12      4           77    07\n",
      "13      4          153    08\n",
      "14      4          191    09\n",
      "15      5            4    07\n",
      "16      5            9    08\n",
      "17      5           14    09\n",
      "18      6           23    07\n",
      "19      6           85    08\n",
      "20      6           87    09\n",
      "21      7           68    07\n",
      "22      7          154    08\n",
      "23      7          199    09\n",
      "24      8          103    07\n",
      "25      8          272    08\n",
      "26      8          408    09\n"
     ]
    }
   ],
   "source": [
    "#query4 for question 13\n",
    "df4 = pd.read_sql_query(query4, cnx)\n",
    "print(df4)"
   ]
  },
  {
   "cell_type": "code",
   "execution_count": null,
   "id": "761089e9",
   "metadata": {},
   "outputs": [],
   "source": []
  }
 ],
 "metadata": {
  "kernelspec": {
   "display_name": "Python 3 (ipykernel)",
   "language": "python",
   "name": "python3"
  },
  "language_info": {
   "codemirror_mode": {
    "name": "ipython",
    "version": 3
   },
   "file_extension": ".py",
   "mimetype": "text/x-python",
   "name": "python",
   "nbconvert_exporter": "python",
   "pygments_lexer": "ipython3",
   "version": "3.10.12"
  },
  "toc": {
   "base_numbering": 1,
   "nav_menu": {},
   "number_sections": true,
   "sideBar": true,
   "skip_h1_title": false,
   "title_cell": "Table of Contents",
   "title_sidebar": "Contents",
   "toc_cell": false,
   "toc_position": {},
   "toc_section_display": true,
   "toc_window_display": true
  }
 },
 "nbformat": 4,
 "nbformat_minor": 5
}
